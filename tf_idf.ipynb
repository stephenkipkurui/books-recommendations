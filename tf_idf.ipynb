{
 "cells": [
  {
   "cell_type": "markdown",
   "id": "63e2f643",
   "metadata": {},
   "source": [
    "# Example TF-IDF\n",
    "\n",
    "\n",
    "### Methods\n",
    "\n",
    "    build_analyzer() - Return a callable to process input data.\n",
    "    build_preprocessor() - Return a function to preprocess the text before tokenization.\n",
    "    build_tokenizer()- Return a function that splits a string into a sequence of tokens.\n",
    "    decode(doc)- Decode the input into a string of unicode symbols.\n",
    "    fit(raw_documents[, y])- Learn vocabulary and idf from training set.\n",
    "    fit_transform(raw_documents[, y])- Learn vocabulary and idf, return document-term matrix.\n",
    "    get_feature_names()- DEPRECATED: get_feature_names is deprecated in 1.0 and will be removed in 1.2.\n",
    "    get_feature_names_out([input_features])- Get output feature names for transformation.\n",
    "    get_params([deep])- Get parameters for this estimator.\n",
    "    get_stop_words()- Build or fetch the effective stop words list.\n",
    "    inverse_transform(X)- Return terms per document with nonzero entries in X.\n",
    "    set_params(**params)- Set the parameters of this estimator.\n",
    "    transform(raw_documents)- Transform documents to document-term matrix."
   ]
  },
  {
   "cell_type": "code",
   "execution_count": 8,
   "id": "abadb0e5",
   "metadata": {},
   "outputs": [
    {
     "name": "stdout",
     "output_type": "stream",
     "text": [
      "(4, 9)\n"
     ]
    }
   ],
   "source": [
    "from sklearn.feature_extraction.text import TfidfVectorizer\n",
    "\n",
    "corpus = [\n",
    "    'This is the first document.',\n",
    "    'This document is the second document.',\n",
    "    'And this is the third one.',\n",
    "    'Is this the first document?',\n",
    "]\n",
    "\n",
    "vectorizer = TfidfVectorizer()\n",
    "\n",
    "X = vectorizer.fit_transform(corpus)\n",
    "\n",
    "print(X.shape)"
   ]
  },
  {
   "cell_type": "code",
   "execution_count": 10,
   "id": "27ff9124",
   "metadata": {},
   "outputs": [
    {
     "data": {
      "text/plain": [
       "<1x9 sparse matrix of type '<class 'numpy.float64'>'\n",
       "\twith 5 stored elements in Compressed Sparse Row format>"
      ]
     },
     "execution_count": 10,
     "metadata": {},
     "output_type": "execute_result"
    }
   ],
   "source": [
    "X[0]"
   ]
  },
  {
   "cell_type": "code",
   "execution_count": 11,
   "id": "af3fad37",
   "metadata": {},
   "outputs": [
    {
     "name": "stdout",
     "output_type": "stream",
     "text": [
      "  (0, 1)\t0.46979138557992045\n",
      "  (0, 2)\t0.5802858236844359\n",
      "  (0, 6)\t0.38408524091481483\n",
      "  (0, 3)\t0.38408524091481483\n",
      "  (0, 8)\t0.38408524091481483\n",
      "  (0, 5)\t0.5386476208856763\n",
      "  (0, 1)\t0.6876235979836938\n",
      "  (0, 6)\t0.281088674033753\n",
      "  (0, 3)\t0.281088674033753\n",
      "  (0, 8)\t0.281088674033753\n",
      "  (0, 4)\t0.511848512707169\n",
      "  (0, 7)\t0.511848512707169\n",
      "  (0, 0)\t0.511848512707169\n",
      "  (0, 6)\t0.267103787642168\n",
      "  (0, 3)\t0.267103787642168\n",
      "  (0, 8)\t0.267103787642168\n",
      "  (0, 1)\t0.46979138557992045\n",
      "  (0, 2)\t0.5802858236844359\n",
      "  (0, 6)\t0.38408524091481483\n",
      "  (0, 3)\t0.38408524091481483\n",
      "  (0, 8)\t0.38408524091481483\n"
     ]
    }
   ],
   "source": [
    "for i in X:\n",
    "    print(i)"
   ]
  },
  {
   "cell_type": "code",
   "execution_count": 12,
   "id": "fde9c04f",
   "metadata": {},
   "outputs": [
    {
     "data": {
      "text/plain": [
       "[array(['document', 'first', 'the', 'is', 'this'], dtype='<U8'),\n",
       " array(['second', 'document', 'the', 'is', 'this'], dtype='<U8'),\n",
       " array(['one', 'third', 'and', 'the', 'is', 'this'], dtype='<U8'),\n",
       " array(['document', 'first', 'the', 'is', 'this'], dtype='<U8')]"
      ]
     },
     "execution_count": 12,
     "metadata": {},
     "output_type": "execute_result"
    }
   ],
   "source": [
    "vectorizer.inverse_transform(X)"
   ]
  },
  {
   "cell_type": "code",
   "execution_count": null,
   "id": "1b4a2658",
   "metadata": {},
   "outputs": [],
   "source": []
  },
  {
   "cell_type": "code",
   "execution_count": null,
   "id": "bc63604b",
   "metadata": {},
   "outputs": [],
   "source": []
  }
 ],
 "metadata": {
  "kernelspec": {
   "display_name": "Python 3 (ipykernel)",
   "language": "python",
   "name": "python3"
  },
  "language_info": {
   "codemirror_mode": {
    "name": "ipython",
    "version": 3
   },
   "file_extension": ".py",
   "mimetype": "text/x-python",
   "name": "python",
   "nbconvert_exporter": "python",
   "pygments_lexer": "ipython3",
   "version": "3.9.7"
  }
 },
 "nbformat": 4,
 "nbformat_minor": 5
}
