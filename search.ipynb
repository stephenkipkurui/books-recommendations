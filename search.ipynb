{
 "cells": [
  {
   "cell_type": "markdown",
   "id": "ab78cfdc",
   "metadata": {},
   "source": [
    "# Book Search\n",
    "\n",
    "Data Source: https://sites.google.com/eng.ucsd.edu/ucsdbookgraph/home"
   ]
  },
  {
   "cell_type": "code",
   "execution_count": 1,
   "id": "f6fb58c3",
   "metadata": {},
   "outputs": [],
   "source": [
    "import pandas as pd"
   ]
  },
  {
   "cell_type": "code",
   "execution_count": 2,
   "id": "6e74132b",
   "metadata": {},
   "outputs": [
    {
     "name": "stdout",
     "output_type": "stream",
     "text": [
      " 7588375 goodreads_books.json.gz\r\n"
     ]
    }
   ],
   "source": [
    "# Counts number of lines in file\n",
    "\n",
    "!wc -l goodreads_books.json.gz"
   ]
  },
  {
   "cell_type": "code",
   "execution_count": 3,
   "id": "bf0e1a6e",
   "metadata": {},
   "outputs": [
    {
     "name": "stdout",
     "output_type": "stream",
     "text": [
      "-rw-r--r--@ 1 stephenkipkurui  staff   1.9G Jul 15 12:10 goodreads_books.json.gz\r\n"
     ]
    }
   ],
   "source": [
    "# How large the file\n",
    "\n",
    "!ls -lh | grep goodreads_books.json.gz"
   ]
  },
  {
   "cell_type": "code",
   "execution_count": 4,
   "id": "ba64006f",
   "metadata": {},
   "outputs": [],
   "source": [
    "# Stream the file without opening. Purpose--> maximize machine processing\n",
    "\n",
    "import gzip\n",
    "\n",
    "with gzip.open('goodreads_books.json.gz', 'r') as f:\n",
    "    line = f.readline()"
   ]
  },
  {
   "cell_type": "code",
   "execution_count": 5,
   "id": "be6f550c",
   "metadata": {},
   "outputs": [
    {
     "data": {
      "text/plain": [
       "b'{\"isbn\": \"0312853122\", \"text_reviews_count\": \"1\", \"series\": [], \"country_code\": \"US\", \"language_code\": \"\", \"popular_shelves\": [{\"count\": \"3\", \"name\": \"to-read\"}, {\"count\": \"1\", \"name\": \"p\"}, {\"count\": \"1\", \"name\": \"collection\"}, {\"count\": \"1\", \"name\": \"w-c-fields\"}, {\"count\": \"1\", \"name\": \"biography\"}], \"asin\": \"\", \"is_ebook\": \"false\", \"average_rating\": \"4.00\", \"kindle_asin\": \"\", \"similar_books\": [], \"description\": \"\", \"format\": \"Paperback\", \"link\": \"https://www.goodreads.com/book/show/5333265-w-c-fields\", \"authors\": [{\"author_id\": \"604031\", \"role\": \"\"}], \"publisher\": \"St. Martin\\'s Press\", \"num_pages\": \"256\", \"publication_day\": \"1\", \"isbn13\": \"9780312853129\", \"publication_month\": \"9\", \"edition_information\": \"\", \"publication_year\": \"1984\", \"url\": \"https://www.goodreads.com/book/show/5333265-w-c-fields\", \"image_url\": \"https://images.gr-assets.com/books/1310220028m/5333265.jpg\", \"book_id\": \"5333265\", \"ratings_count\": \"3\", \"work_id\": \"5400751\", \"title\": \"W.C. Fields: A Life on Film\", \"title_without_series\": \"W.C. Fields: A Life on Film\"}\\n'"
      ]
     },
     "execution_count": 5,
     "metadata": {},
     "output_type": "execute_result"
    }
   ],
   "source": [
    "line"
   ]
  },
  {
   "cell_type": "code",
   "execution_count": 6,
   "id": "e4c60ba3",
   "metadata": {},
   "outputs": [
    {
     "data": {
      "text/plain": [
       "{'isbn': '0312853122',\n",
       " 'text_reviews_count': '1',\n",
       " 'series': [],\n",
       " 'country_code': 'US',\n",
       " 'language_code': '',\n",
       " 'popular_shelves': [{'count': '3', 'name': 'to-read'},\n",
       "  {'count': '1', 'name': 'p'},\n",
       "  {'count': '1', 'name': 'collection'},\n",
       "  {'count': '1', 'name': 'w-c-fields'},\n",
       "  {'count': '1', 'name': 'biography'}],\n",
       " 'asin': '',\n",
       " 'is_ebook': 'false',\n",
       " 'average_rating': '4.00',\n",
       " 'kindle_asin': '',\n",
       " 'similar_books': [],\n",
       " 'description': '',\n",
       " 'format': 'Paperback',\n",
       " 'link': 'https://www.goodreads.com/book/show/5333265-w-c-fields',\n",
       " 'authors': [{'author_id': '604031', 'role': ''}],\n",
       " 'publisher': \"St. Martin's Press\",\n",
       " 'num_pages': '256',\n",
       " 'publication_day': '1',\n",
       " 'isbn13': '9780312853129',\n",
       " 'publication_month': '9',\n",
       " 'edition_information': '',\n",
       " 'publication_year': '1984',\n",
       " 'url': 'https://www.goodreads.com/book/show/5333265-w-c-fields',\n",
       " 'image_url': 'https://images.gr-assets.com/books/1310220028m/5333265.jpg',\n",
       " 'book_id': '5333265',\n",
       " 'ratings_count': '3',\n",
       " 'work_id': '5400751',\n",
       " 'title': 'W.C. Fields: A Life on Film',\n",
       " 'title_without_series': 'W.C. Fields: A Life on Film'}"
      ]
     },
     "execution_count": 6,
     "metadata": {},
     "output_type": "execute_result"
    }
   ],
   "source": [
    "# Using Json to load the line of data\n",
    "\n",
    "import json\n",
    "json.loads(line)"
   ]
  },
  {
   "cell_type": "code",
   "execution_count": 7,
   "id": "64440a93",
   "metadata": {},
   "outputs": [],
   "source": [
    "# Function to create select information from json file\n",
    "\n",
    "def parse_fields(line):\n",
    "    \n",
    "    data = json.loads(line)\n",
    "    return {\n",
    "        'book_id' : data['book_id'],\n",
    "        'title': data['title_without_series'],\n",
    "        'ratings': data['ratings_count'],\n",
    "        'url': data['url'],\n",
    "        'cover_image': data['image_url']\n",
    "    }"
   ]
  },
  {
   "cell_type": "code",
   "execution_count": 8,
   "id": "831f954d",
   "metadata": {},
   "outputs": [],
   "source": [
    "books_titles = []\n",
    "\n",
    "with gzip.open('goodreads_books.json.gz', 'r') as f:\n",
    "    \n",
    "    while True:\n",
    "        line = f.readline()\n",
    "        if not line:\n",
    "            break\n",
    "        fields = parse_fields(line)\n",
    "        \n",
    "        try:\n",
    "            ratings = int(fields['ratings'])\n",
    "        except ValueError:\n",
    "            continue\n",
    "        if ratings > 15:\n",
    "            books_titles.append(fields)"
   ]
  },
  {
   "cell_type": "markdown",
   "id": "125cee8c",
   "metadata": {},
   "source": [
    "### Turn into dataframe"
   ]
  },
  {
   "cell_type": "code",
   "execution_count": 12,
   "id": "8edce3ab",
   "metadata": {},
   "outputs": [
    {
     "data": {
      "text/html": [
       "<div>\n",
       "<style scoped>\n",
       "    .dataframe tbody tr th:only-of-type {\n",
       "        vertical-align: middle;\n",
       "    }\n",
       "\n",
       "    .dataframe tbody tr th {\n",
       "        vertical-align: top;\n",
       "    }\n",
       "\n",
       "    .dataframe thead th {\n",
       "        text-align: right;\n",
       "    }\n",
       "</style>\n",
       "<table border=\"1\" class=\"dataframe\">\n",
       "  <thead>\n",
       "    <tr style=\"text-align: right;\">\n",
       "      <th></th>\n",
       "      <th>book_id</th>\n",
       "      <th>title</th>\n",
       "      <th>ratings</th>\n",
       "      <th>url</th>\n",
       "      <th>cover_image</th>\n",
       "    </tr>\n",
       "  </thead>\n",
       "  <tbody>\n",
       "    <tr>\n",
       "      <th>0</th>\n",
       "      <td>7327624</td>\n",
       "      <td>The Unschooled Wizard (Sun Wolf and Starhawk, ...</td>\n",
       "      <td>140</td>\n",
       "      <td>https://www.goodreads.com/book/show/7327624-th...</td>\n",
       "      <td>https://images.gr-assets.com/books/1304100136m...</td>\n",
       "    </tr>\n",
       "    <tr>\n",
       "      <th>1</th>\n",
       "      <td>6066819</td>\n",
       "      <td>Best Friends Forever</td>\n",
       "      <td>51184</td>\n",
       "      <td>https://www.goodreads.com/book/show/6066819-be...</td>\n",
       "      <td>https://s.gr-assets.com/assets/nophoto/book/11...</td>\n",
       "    </tr>\n",
       "    <tr>\n",
       "      <th>2</th>\n",
       "      <td>287141</td>\n",
       "      <td>The Aeneid for Boys and Girls</td>\n",
       "      <td>46</td>\n",
       "      <td>https://www.goodreads.com/book/show/287141.The...</td>\n",
       "      <td>https://s.gr-assets.com/assets/nophoto/book/11...</td>\n",
       "    </tr>\n",
       "    <tr>\n",
       "      <th>3</th>\n",
       "      <td>6066812</td>\n",
       "      <td>All's Fairy in Love and War (Avalon: Web of Ma...</td>\n",
       "      <td>98</td>\n",
       "      <td>https://www.goodreads.com/book/show/6066812-al...</td>\n",
       "      <td>https://images.gr-assets.com/books/1316637798m...</td>\n",
       "    </tr>\n",
       "    <tr>\n",
       "      <th>4</th>\n",
       "      <td>287149</td>\n",
       "      <td>The Devil's Notebook</td>\n",
       "      <td>986</td>\n",
       "      <td>https://www.goodreads.com/book/show/287149.The...</td>\n",
       "      <td>https://images.gr-assets.com/books/1328768789m...</td>\n",
       "    </tr>\n",
       "  </tbody>\n",
       "</table>\n",
       "</div>"
      ],
      "text/plain": [
       "   book_id                                              title ratings  \\\n",
       "0  7327624  The Unschooled Wizard (Sun Wolf and Starhawk, ...     140   \n",
       "1  6066819                               Best Friends Forever   51184   \n",
       "2   287141                      The Aeneid for Boys and Girls      46   \n",
       "3  6066812  All's Fairy in Love and War (Avalon: Web of Ma...      98   \n",
       "4   287149                               The Devil's Notebook     986   \n",
       "\n",
       "                                                 url  \\\n",
       "0  https://www.goodreads.com/book/show/7327624-th...   \n",
       "1  https://www.goodreads.com/book/show/6066819-be...   \n",
       "2  https://www.goodreads.com/book/show/287141.The...   \n",
       "3  https://www.goodreads.com/book/show/6066812-al...   \n",
       "4  https://www.goodreads.com/book/show/287149.The...   \n",
       "\n",
       "                                         cover_image  \n",
       "0  https://images.gr-assets.com/books/1304100136m...  \n",
       "1  https://s.gr-assets.com/assets/nophoto/book/11...  \n",
       "2  https://s.gr-assets.com/assets/nophoto/book/11...  \n",
       "3  https://images.gr-assets.com/books/1316637798m...  \n",
       "4  https://images.gr-assets.com/books/1328768789m...  "
      ]
     },
     "execution_count": 12,
     "metadata": {},
     "output_type": "execute_result"
    }
   ],
   "source": [
    "titles = pd.DataFrame.from_dict(books_titles)\n",
    "titles.head()"
   ]
  },
  {
   "cell_type": "code",
   "execution_count": 13,
   "id": "386ed796",
   "metadata": {},
   "outputs": [
    {
     "name": "stdout",
     "output_type": "stream",
     "text": [
      "<class 'pandas.core.frame.DataFrame'>\n",
      "RangeIndex: 1308957 entries, 0 to 1308956\n",
      "Data columns (total 5 columns):\n",
      " #   Column       Non-Null Count    Dtype \n",
      "---  ------       --------------    ----- \n",
      " 0   book_id      1308957 non-null  object\n",
      " 1   title        1308957 non-null  object\n",
      " 2   ratings      1308957 non-null  object\n",
      " 3   url          1308957 non-null  object\n",
      " 4   cover_image  1308957 non-null  object\n",
      "dtypes: object(5)\n",
      "memory usage: 49.9+ MB\n"
     ]
    }
   ],
   "source": [
    "# Get info\n",
    "titles.info()"
   ]
  },
  {
   "cell_type": "code",
   "execution_count": 18,
   "id": "71ca59f4",
   "metadata": {},
   "outputs": [],
   "source": [
    "# Convert ratings to numerics\n",
    "titles['ratings'] = pd.to_numeric(titles['ratings'])\n",
    "\n",
    "# Use regex to remove any unnecesary characters from title and assign new column and lower case\n",
    "titles['modified_title'] = titles['title'].str.replace('[^a-zA-Z0-9]', ' ', regex = True).str.lower()\n",
    "\n",
    "# Remove any spaces greater than one to single space on modified title column\n",
    "titles['modified_title'] = titles['modified_title'].str.replace('\\s+', ' ', regex = True)"
   ]
  },
  {
   "cell_type": "code",
   "execution_count": 22,
   "id": "420f043c",
   "metadata": {},
   "outputs": [],
   "source": [
    "# Get titles with characters > 0\n",
    "titles = titles[titles['modified_title'].str.len() > 0]"
   ]
  },
  {
   "cell_type": "code",
   "execution_count": 21,
   "id": "f9a033af",
   "metadata": {},
   "outputs": [],
   "source": [
    "# Save a copy to json file\n",
    "titles.to_json('books_titles.json')"
   ]
  },
  {
   "cell_type": "code",
   "execution_count": 24,
   "id": "9639ac4e",
   "metadata": {},
   "outputs": [
    {
     "data": {
      "text/html": [
       "<div>\n",
       "<style scoped>\n",
       "    .dataframe tbody tr th:only-of-type {\n",
       "        vertical-align: middle;\n",
       "    }\n",
       "\n",
       "    .dataframe tbody tr th {\n",
       "        vertical-align: top;\n",
       "    }\n",
       "\n",
       "    .dataframe thead th {\n",
       "        text-align: right;\n",
       "    }\n",
       "</style>\n",
       "<table border=\"1\" class=\"dataframe\">\n",
       "  <thead>\n",
       "    <tr style=\"text-align: right;\">\n",
       "      <th></th>\n",
       "      <th>book_id</th>\n",
       "      <th>title</th>\n",
       "      <th>ratings</th>\n",
       "      <th>url</th>\n",
       "      <th>cover_image</th>\n",
       "      <th>modified_title</th>\n",
       "    </tr>\n",
       "  </thead>\n",
       "  <tbody>\n",
       "    <tr>\n",
       "      <th>0</th>\n",
       "      <td>7327624</td>\n",
       "      <td>The Unschooled Wizard (Sun Wolf and Starhawk, ...</td>\n",
       "      <td>140</td>\n",
       "      <td>https://www.goodreads.com/book/show/7327624-th...</td>\n",
       "      <td>https://images.gr-assets.com/books/1304100136m...</td>\n",
       "      <td>the unschooled wizard sun wolf and starhawk 1 2</td>\n",
       "    </tr>\n",
       "    <tr>\n",
       "      <th>1</th>\n",
       "      <td>6066819</td>\n",
       "      <td>Best Friends Forever</td>\n",
       "      <td>51184</td>\n",
       "      <td>https://www.goodreads.com/book/show/6066819-be...</td>\n",
       "      <td>https://s.gr-assets.com/assets/nophoto/book/11...</td>\n",
       "      <td>best friends forever</td>\n",
       "    </tr>\n",
       "    <tr>\n",
       "      <th>2</th>\n",
       "      <td>287141</td>\n",
       "      <td>The Aeneid for Boys and Girls</td>\n",
       "      <td>46</td>\n",
       "      <td>https://www.goodreads.com/book/show/287141.The...</td>\n",
       "      <td>https://s.gr-assets.com/assets/nophoto/book/11...</td>\n",
       "      <td>the aeneid for boys and girls</td>\n",
       "    </tr>\n",
       "    <tr>\n",
       "      <th>3</th>\n",
       "      <td>6066812</td>\n",
       "      <td>All's Fairy in Love and War (Avalon: Web of Ma...</td>\n",
       "      <td>98</td>\n",
       "      <td>https://www.goodreads.com/book/show/6066812-al...</td>\n",
       "      <td>https://images.gr-assets.com/books/1316637798m...</td>\n",
       "      <td>all s fairy in love and war avalon web of magi...</td>\n",
       "    </tr>\n",
       "    <tr>\n",
       "      <th>4</th>\n",
       "      <td>287149</td>\n",
       "      <td>The Devil's Notebook</td>\n",
       "      <td>986</td>\n",
       "      <td>https://www.goodreads.com/book/show/287149.The...</td>\n",
       "      <td>https://images.gr-assets.com/books/1328768789m...</td>\n",
       "      <td>the devil s notebook</td>\n",
       "    </tr>\n",
       "    <tr>\n",
       "      <th>...</th>\n",
       "      <td>...</td>\n",
       "      <td>...</td>\n",
       "      <td>...</td>\n",
       "      <td>...</td>\n",
       "      <td>...</td>\n",
       "      <td>...</td>\n",
       "    </tr>\n",
       "    <tr>\n",
       "      <th>1308952</th>\n",
       "      <td>17805813</td>\n",
       "      <td>Ondine (Ondine Quartet, #0.5)</td>\n",
       "      <td>327</td>\n",
       "      <td>https://www.goodreads.com/book/show/17805813-o...</td>\n",
       "      <td>https://images.gr-assets.com/books/1379766592m...</td>\n",
       "      <td>ondine ondine quartet 0 5</td>\n",
       "    </tr>\n",
       "    <tr>\n",
       "      <th>1308953</th>\n",
       "      <td>331839</td>\n",
       "      <td>Jacqueline Kennedy Onassis: Friend of the Arts</td>\n",
       "      <td>18</td>\n",
       "      <td>https://www.goodreads.com/book/show/331839.Jac...</td>\n",
       "      <td>https://s.gr-assets.com/assets/nophoto/book/11...</td>\n",
       "      <td>jacqueline kennedy onassis friend of the arts</td>\n",
       "    </tr>\n",
       "    <tr>\n",
       "      <th>1308954</th>\n",
       "      <td>2685097</td>\n",
       "      <td>The Spaniard's Blackmailed Bride</td>\n",
       "      <td>112</td>\n",
       "      <td>https://www.goodreads.com/book/show/2685097-th...</td>\n",
       "      <td>https://s.gr-assets.com/assets/nophoto/book/11...</td>\n",
       "      <td>the spaniard s blackmailed bride</td>\n",
       "    </tr>\n",
       "    <tr>\n",
       "      <th>1308955</th>\n",
       "      <td>2342551</td>\n",
       "      <td>The Children's Classic Poetry Collection</td>\n",
       "      <td>36</td>\n",
       "      <td>https://www.goodreads.com/book/show/2342551.Th...</td>\n",
       "      <td>https://s.gr-assets.com/assets/nophoto/book/11...</td>\n",
       "      <td>the children s classic poetry collection</td>\n",
       "    </tr>\n",
       "    <tr>\n",
       "      <th>1308956</th>\n",
       "      <td>22017381</td>\n",
       "      <td>101 Nights: Volume One (101 Nights, #1-3)</td>\n",
       "      <td>70</td>\n",
       "      <td>https://www.goodreads.com/book/show/22017381-1...</td>\n",
       "      <td>https://images.gr-assets.com/books/1398621236m...</td>\n",
       "      <td>101 nights volume one 101 nights 1 3</td>\n",
       "    </tr>\n",
       "  </tbody>\n",
       "</table>\n",
       "<p>1308957 rows × 6 columns</p>\n",
       "</div>"
      ],
      "text/plain": [
       "          book_id                                              title  ratings  \\\n",
       "0         7327624  The Unschooled Wizard (Sun Wolf and Starhawk, ...      140   \n",
       "1         6066819                               Best Friends Forever    51184   \n",
       "2          287141                      The Aeneid for Boys and Girls       46   \n",
       "3         6066812  All's Fairy in Love and War (Avalon: Web of Ma...       98   \n",
       "4          287149                               The Devil's Notebook      986   \n",
       "...           ...                                                ...      ...   \n",
       "1308952  17805813                      Ondine (Ondine Quartet, #0.5)      327   \n",
       "1308953    331839     Jacqueline Kennedy Onassis: Friend of the Arts       18   \n",
       "1308954   2685097                   The Spaniard's Blackmailed Bride      112   \n",
       "1308955   2342551           The Children's Classic Poetry Collection       36   \n",
       "1308956  22017381          101 Nights: Volume One (101 Nights, #1-3)       70   \n",
       "\n",
       "                                                       url  \\\n",
       "0        https://www.goodreads.com/book/show/7327624-th...   \n",
       "1        https://www.goodreads.com/book/show/6066819-be...   \n",
       "2        https://www.goodreads.com/book/show/287141.The...   \n",
       "3        https://www.goodreads.com/book/show/6066812-al...   \n",
       "4        https://www.goodreads.com/book/show/287149.The...   \n",
       "...                                                    ...   \n",
       "1308952  https://www.goodreads.com/book/show/17805813-o...   \n",
       "1308953  https://www.goodreads.com/book/show/331839.Jac...   \n",
       "1308954  https://www.goodreads.com/book/show/2685097-th...   \n",
       "1308955  https://www.goodreads.com/book/show/2342551.Th...   \n",
       "1308956  https://www.goodreads.com/book/show/22017381-1...   \n",
       "\n",
       "                                               cover_image  \\\n",
       "0        https://images.gr-assets.com/books/1304100136m...   \n",
       "1        https://s.gr-assets.com/assets/nophoto/book/11...   \n",
       "2        https://s.gr-assets.com/assets/nophoto/book/11...   \n",
       "3        https://images.gr-assets.com/books/1316637798m...   \n",
       "4        https://images.gr-assets.com/books/1328768789m...   \n",
       "...                                                    ...   \n",
       "1308952  https://images.gr-assets.com/books/1379766592m...   \n",
       "1308953  https://s.gr-assets.com/assets/nophoto/book/11...   \n",
       "1308954  https://s.gr-assets.com/assets/nophoto/book/11...   \n",
       "1308955  https://s.gr-assets.com/assets/nophoto/book/11...   \n",
       "1308956  https://images.gr-assets.com/books/1398621236m...   \n",
       "\n",
       "                                            modified_title  \n",
       "0         the unschooled wizard sun wolf and starhawk 1 2   \n",
       "1                                     best friends forever  \n",
       "2                            the aeneid for boys and girls  \n",
       "3        all s fairy in love and war avalon web of magi...  \n",
       "4                                     the devil s notebook  \n",
       "...                                                    ...  \n",
       "1308952                         ondine ondine quartet 0 5   \n",
       "1308953      jacqueline kennedy onassis friend of the arts  \n",
       "1308954                   the spaniard s blackmailed bride  \n",
       "1308955           the children s classic poetry collection  \n",
       "1308956              101 nights volume one 101 nights 1 3   \n",
       "\n",
       "[1308957 rows x 6 columns]"
      ]
     },
     "execution_count": 24,
     "metadata": {},
     "output_type": "execute_result"
    }
   ],
   "source": [
    "titles"
   ]
  },
  {
   "cell_type": "code",
   "execution_count": 38,
   "id": "a1007430",
   "metadata": {},
   "outputs": [],
   "source": [
    "from sklearn.feature_extraction.text import TfidfVectorizer\n",
    "\n",
    "vectorizer = TfidfVectorizer()\n",
    "\n",
    "tfidf = vectorizer.fit_transform(titles['modified_title'])"
   ]
  },
  {
   "cell_type": "code",
   "execution_count": 53,
   "id": "936ba34f",
   "metadata": {},
   "outputs": [],
   "source": [
    "from sklearn.metrics.pairwise import cosine_similarity\n",
    "import numpy as np\n",
    "import re\n",
    "\n",
    "def make_clickable(val):\n",
    "    return '<a target = \"_blank\" href=\"{}\">Goodreads</a>'.format(val)\n",
    "\n",
    "def show_image(val):\n",
    "    return '<img src = \"{}\" width = 50></img>'.format(val)\n",
    "\n",
    "def search(book_query, vectorizer):\n",
    "    processed = re.sub('[^a-zA-Z0-9]', '', book_query.lower())\n",
    "    query_vec = vectorizer.transform([processed])\n",
    "    similarity = cosine_similarity(query_vec, tfidf).flatten()\n",
    "    indices = np.argpartition(similarity, -10)[-10:]\n",
    "    results = titles.iloc[indices]\n",
    "    results = results.sort_values('ratings', ascending = False)\n",
    "    return results.head(5).style.format({'url': make_clickable, 'cover_image': show_image})"
   ]
  },
  {
   "cell_type": "code",
   "execution_count": 67,
   "id": "f88ab48f",
   "metadata": {},
   "outputs": [
    {
     "data": {
      "text/html": [
       "<style type=\"text/css\">\n",
       "</style>\n",
       "<table id=\"T_bf5ef_\">\n",
       "  <thead>\n",
       "    <tr>\n",
       "      <th class=\"blank level0\" >&nbsp;</th>\n",
       "      <th class=\"col_heading level0 col0\" >book_id</th>\n",
       "      <th class=\"col_heading level0 col1\" >title</th>\n",
       "      <th class=\"col_heading level0 col2\" >ratings</th>\n",
       "      <th class=\"col_heading level0 col3\" >url</th>\n",
       "      <th class=\"col_heading level0 col4\" >cover_image</th>\n",
       "      <th class=\"col_heading level0 col5\" >modified_title</th>\n",
       "    </tr>\n",
       "  </thead>\n",
       "  <tbody>\n",
       "    <tr>\n",
       "      <th id=\"T_bf5ef_level0_row0\" class=\"row_heading level0 row0\" >753839</th>\n",
       "      <td id=\"T_bf5ef_row0_col0\" class=\"data row0 col0\" >347610</td>\n",
       "      <td id=\"T_bf5ef_row0_col1\" class=\"data row0 col1\" >King Leopold's Ghost</td>\n",
       "      <td id=\"T_bf5ef_row0_col2\" class=\"data row0 col2\" >25849</td>\n",
       "      <td id=\"T_bf5ef_row0_col3\" class=\"data row0 col3\" ><a target = \"_blank\" href=\"https://www.goodreads.com/book/show/347610.King_Leopold_s_Ghost\">Goodreads</a></td>\n",
       "      <td id=\"T_bf5ef_row0_col4\" class=\"data row0 col4\" ><img src = \"https://images.gr-assets.com/books/1348621563m/347610.jpg\" width = 50></img></td>\n",
       "      <td id=\"T_bf5ef_row0_col5\" class=\"data row0 col5\" >king leopold s ghost</td>\n",
       "    </tr>\n",
       "    <tr>\n",
       "      <th id=\"T_bf5ef_level0_row1\" class=\"row_heading level0 row1\" >388257</th>\n",
       "      <td id=\"T_bf5ef_row1_col0\" class=\"data row1 col0\" >10474352</td>\n",
       "      <td id=\"T_bf5ef_row1_col1\" class=\"data row1 col1\" >King Leopold's Ghost</td>\n",
       "      <td id=\"T_bf5ef_row1_col2\" class=\"data row1 col2\" >608</td>\n",
       "      <td id=\"T_bf5ef_row1_col3\" class=\"data row1 col3\" ><a target = \"_blank\" href=\"https://www.goodreads.com/book/show/10474352-king-leopold-s-ghost\">Goodreads</a></td>\n",
       "      <td id=\"T_bf5ef_row1_col4\" class=\"data row1 col4\" ><img src = \"https://s.gr-assets.com/assets/nophoto/book/111x148-bcc042a9c91a29c1d680899eff700a03.png\" width = 50></img></td>\n",
       "      <td id=\"T_bf5ef_row1_col5\" class=\"data row1 col5\" >king leopold s ghost</td>\n",
       "    </tr>\n",
       "    <tr>\n",
       "      <th id=\"T_bf5ef_level0_row2\" class=\"row_heading level0 row2\" >688670</th>\n",
       "      <td id=\"T_bf5ef_row2_col0\" class=\"data row2 col0\" >953016</td>\n",
       "      <td id=\"T_bf5ef_row2_col1\" class=\"data row2 col1\" >King Leopold's Ghost</td>\n",
       "      <td id=\"T_bf5ef_row2_col2\" class=\"data row2 col2\" >226</td>\n",
       "      <td id=\"T_bf5ef_row2_col3\" class=\"data row2 col3\" ><a target = \"_blank\" href=\"https://www.goodreads.com/book/show/953016.King_Leopold_s_Ghost\">Goodreads</a></td>\n",
       "      <td id=\"T_bf5ef_row2_col4\" class=\"data row2 col4\" ><img src = \"https://s.gr-assets.com/assets/nophoto/book/111x148-bcc042a9c91a29c1d680899eff700a03.png\" width = 50></img></td>\n",
       "      <td id=\"T_bf5ef_row2_col5\" class=\"data row2 col5\" >king leopold s ghost</td>\n",
       "    </tr>\n",
       "    <tr>\n",
       "      <th id=\"T_bf5ef_level0_row3\" class=\"row_heading level0 row3\" >1083960</th>\n",
       "      <td id=\"T_bf5ef_row3_col0\" class=\"data row3 col0\" >27457</td>\n",
       "      <td id=\"T_bf5ef_row3_col1\" class=\"data row3 col1\" >King Leopold's Ghost</td>\n",
       "      <td id=\"T_bf5ef_row3_col2\" class=\"data row3 col2\" >84</td>\n",
       "      <td id=\"T_bf5ef_row3_col3\" class=\"data row3 col3\" ><a target = \"_blank\" href=\"https://www.goodreads.com/book/show/27457.King_Leopold_s_Ghost\">Goodreads</a></td>\n",
       "      <td id=\"T_bf5ef_row3_col4\" class=\"data row3 col4\" ><img src = \"https://s.gr-assets.com/assets/nophoto/book/111x148-bcc042a9c91a29c1d680899eff700a03.png\" width = 50></img></td>\n",
       "      <td id=\"T_bf5ef_row3_col5\" class=\"data row3 col5\" >king leopold s ghost</td>\n",
       "    </tr>\n",
       "    <tr>\n",
       "      <th id=\"T_bf5ef_level0_row4\" class=\"row_heading level0 row4\" >68789</th>\n",
       "      <td id=\"T_bf5ef_row4_col0\" class=\"data row4 col0\" >18680452</td>\n",
       "      <td id=\"T_bf5ef_row4_col1\" class=\"data row4 col1\" >Leopold Blue</td>\n",
       "      <td id=\"T_bf5ef_row4_col2\" class=\"data row4 col2\" >41</td>\n",
       "      <td id=\"T_bf5ef_row4_col3\" class=\"data row4 col3\" ><a target = \"_blank\" href=\"https://www.goodreads.com/book/show/18680452-leopold-blue\">Goodreads</a></td>\n",
       "      <td id=\"T_bf5ef_row4_col4\" class=\"data row4 col4\" ><img src = \"https://images.gr-assets.com/books/1381851625m/18680452.jpg\" width = 50></img></td>\n",
       "      <td id=\"T_bf5ef_row4_col5\" class=\"data row4 col5\" >leopold blue</td>\n",
       "    </tr>\n",
       "  </tbody>\n",
       "</table>\n"
      ],
      "text/plain": [
       "<pandas.io.formats.style.Styler at 0x7fb9d193d850>"
      ]
     },
     "execution_count": 67,
     "metadata": {},
     "output_type": "execute_result"
    }
   ],
   "source": [
    "# Call the search function\n",
    "search('leopold', vectorizer)"
   ]
  },
  {
   "cell_type": "code",
   "execution_count": 66,
   "id": "16d8c60a",
   "metadata": {},
   "outputs": [],
   "source": [
    "liked_books = ['17152735','400510', '347610']"
   ]
  },
  {
   "cell_type": "code",
   "execution_count": null,
   "id": "7ca427f4",
   "metadata": {},
   "outputs": [],
   "source": []
  }
 ],
 "metadata": {
  "kernelspec": {
   "display_name": "Python 3 (ipykernel)",
   "language": "python",
   "name": "python3"
  },
  "language_info": {
   "codemirror_mode": {
    "name": "ipython",
    "version": 3
   },
   "file_extension": ".py",
   "mimetype": "text/x-python",
   "name": "python",
   "nbconvert_exporter": "python",
   "pygments_lexer": "ipython3",
   "version": "3.9.7"
  }
 },
 "nbformat": 4,
 "nbformat_minor": 5
}
